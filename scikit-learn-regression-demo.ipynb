{
 "cells": [
  {
   "cell_type": "code",
   "execution_count": 1,
   "metadata": {
    "collapsed": true
   },
   "outputs": [],
   "source": [
    "import pandas as pd\n",
    "from sklearn import linear_model\n",
    "import matplotlib.pyplot as plt\n",
    "%matplotlib inline  "
   ]
  },
  {
   "cell_type": "markdown",
   "metadata": {},
   "source": [
    "Read the data from a text file. In this example, the text file is in the same directory as this notebook. Set the x-values to the 'x' column and the y-values to the 'y' column."
   ]
  },
  {
   "cell_type": "code",
   "execution_count": 3,
   "metadata": {
    "collapsed": false
   },
   "outputs": [],
   "source": [
    "dataframe = pd.read_csv('demo_data.txt')\n",
    "x_values = dataframe[['x']]\n",
    "y_values = dataframe[['y']]"
   ]
  },
  {
   "cell_type": "code",
   "execution_count": 4,
   "metadata": {
    "collapsed": false
   },
   "outputs": [
    {
     "name": "stdout",
     "output_type": "stream",
     "text": [
      "          x\n",
      "0    6.1101\n",
      "1    5.5277\n",
      "2    8.5186\n",
      "3    7.0032\n",
      "4    5.8598\n",
      "5    8.3829\n",
      "6    7.4764\n",
      "7    8.5781\n",
      "8    6.4862\n",
      "9    5.0546\n",
      "10   5.7107\n",
      "11  14.1640\n",
      "12   5.7340\n",
      "13   8.4084\n",
      "14   5.6407\n",
      "15   5.3794\n",
      "16   6.3654\n",
      "17   5.1301\n",
      "18   6.4296\n",
      "19   7.0708\n",
      "20   6.1891\n",
      "21  20.2700\n",
      "22   5.4901\n",
      "23   6.3261\n",
      "24   5.5649\n",
      "25  18.9450\n",
      "26  12.8280\n",
      "27  10.9570\n",
      "28  13.1760\n",
      "29  22.2030\n",
      "..      ...\n",
      "67  10.2360\n",
      "68   5.4994\n",
      "69  20.3410\n",
      "70  10.1360\n",
      "71   7.3345\n",
      "72   6.0062\n",
      "73   7.2259\n",
      "74   5.0269\n",
      "75   6.5479\n",
      "76   7.5386\n",
      "77   5.0365\n",
      "78  10.2740\n",
      "79   5.1077\n",
      "80   5.7292\n",
      "81   5.1884\n",
      "82   6.3557\n",
      "83   9.7687\n",
      "84   6.5159\n",
      "85   8.5172\n",
      "86   9.1802\n",
      "87   6.0020\n",
      "88   5.5204\n",
      "89   5.0594\n",
      "90   5.7077\n",
      "91   7.6366\n",
      "92   5.8707\n",
      "93   5.3054\n",
      "94   8.2934\n",
      "95  13.3940\n",
      "96   5.4369\n",
      "\n",
      "[97 rows x 1 columns]\n"
     ]
    }
   ],
   "source": [
    "print(x_values)"
   ]
  },
  {
   "cell_type": "code",
   "execution_count": 5,
   "metadata": {
    "collapsed": false
   },
   "outputs": [
    {
     "name": "stdout",
     "output_type": "stream",
     "text": [
      "           y\n",
      "0   17.59200\n",
      "1    9.13020\n",
      "2   13.66200\n",
      "3   11.85400\n",
      "4    6.82330\n",
      "5   11.88600\n",
      "6    4.34830\n",
      "7   12.00000\n",
      "8    6.59870\n",
      "9    3.81660\n",
      "10   3.25220\n",
      "11  15.50500\n",
      "12   3.15510\n",
      "13   7.22580\n",
      "14   0.71618\n",
      "15   3.51290\n",
      "16   5.30480\n",
      "17   0.56077\n",
      "18   3.65180\n",
      "19   5.38930\n",
      "20   3.13860\n",
      "21  21.76700\n",
      "22   4.26300\n",
      "23   5.18750\n",
      "24   3.08250\n",
      "25  22.63800\n",
      "26  13.50100\n",
      "27   7.04670\n",
      "28  14.69200\n",
      "29  24.14700\n",
      "..       ...\n",
      "67   7.77540\n",
      "68   1.01730\n",
      "69  20.99200\n",
      "70   6.67990\n",
      "71   4.02590\n",
      "72   1.27840\n",
      "73   3.34110\n",
      "74  -2.68070\n",
      "75   0.29678\n",
      "76   3.88450\n",
      "77   5.70140\n",
      "78   6.75260\n",
      "79   2.05760\n",
      "80   0.47953\n",
      "81   0.20421\n",
      "82   0.67861\n",
      "83   7.54350\n",
      "84   5.34360\n",
      "85   4.24150\n",
      "86   6.79810\n",
      "87   0.92695\n",
      "88   0.15200\n",
      "89   2.82140\n",
      "90   1.84510\n",
      "91   4.29590\n",
      "92   7.20290\n",
      "93   1.98690\n",
      "94   0.14454\n",
      "95   9.05510\n",
      "96   0.61705\n",
      "\n",
      "[97 rows x 1 columns]\n"
     ]
    }
   ],
   "source": [
    "print(y_values)"
   ]
  },
  {
   "cell_type": "markdown",
   "metadata": {},
   "source": [
    "Now we can train the linear regession model on the data."
   ]
  },
  {
   "cell_type": "code",
   "execution_count": 6,
   "metadata": {
    "collapsed": false
   },
   "outputs": [
    {
     "name": "stderr",
     "output_type": "stream",
     "text": [
      "/Applications/anaconda/envs/tensorflow/lib/python3.5/site-packages/scipy/linalg/basic.py:884: RuntimeWarning: internal gelsd driver lwork query error, required iwork dimension not returned. This is likely the result of LAPACK bug 0038, fixed in LAPACK 3.2.2 (released July 21, 2010). Falling back to 'gelss' driver.\n",
      "  warnings.warn(mesg, RuntimeWarning)\n"
     ]
    },
    {
     "data": {
      "text/plain": [
       "LinearRegression(copy_X=True, fit_intercept=True, n_jobs=1, normalize=False)"
      ]
     },
     "execution_count": 6,
     "metadata": {},
     "output_type": "execute_result"
    }
   ],
   "source": [
    "demo_reg = linear_model.LinearRegression()\n",
    "demo_reg.fit(x_values, y_values)"
   ]
  },
  {
   "cell_type": "markdown",
   "metadata": {},
   "source": [
    "We can visualize the regression line for the training data."
   ]
  },
  {
   "cell_type": "code",
   "execution_count": 7,
   "metadata": {
    "collapsed": false
   },
   "outputs": [
    {
     "data": {
      "image/png": "[encoded data removed]",
      "text/plain": [
       "<matplotlib.figure.Figure at 0x1144163c8>"
      ]
     },
     "metadata": {},
     "output_type": "display_data"
    }
   ],
   "source": [
    "plt.scatter(x_values, y_values)\n",
    "plt.plot(x_values, demo_reg.predict(x_values))\n",
    "plt.show()"
   ]
  },
  {
   "cell_type": "markdown",
   "metadata": {},
   "source": [
    "It's straightforward to compare the actual y-value versus predicted y-value for a single x-value."
   ]
  },
  {
   "cell_type": "code",
   "execution_count": 66,
   "metadata": {
    "collapsed": false
   },
   "outputs": [
    {
     "name": "stdout",
     "output_type": "stream",
     "text": [
      "first x: 6.1101\n",
      "first y: 17.592\n",
      "first y predicted: [[ 3.39377399]]\n",
      "first y delta: [[-14.19822601]]\n"
     ]
    }
   ],
   "source": [
    "first_x = x_values['x'].iloc[0]\n",
    "first_y = y_values['y'].iloc[0]\n",
    "first_y_pred = demo_reg.predict(first_x)\n",
    "first_y_delta = pred_first_y - first_y\n",
    "\n",
    "print(\"first x: \" + str(first_x))\n",
    "print(\"first y: \" + str(first_y))\n",
    "print(\"first y predicted: \" + str(first_y_pred))\n",
    "print(\"first y delta: \" + str(first_y_delta))"
   ]
  },
  {
   "cell_type": "markdown",
   "metadata": {},
   "source": [
    "We can also compare actual versus predicted y-values for a set of x-values."
   ]
  },
  {
   "cell_type": "code",
   "execution_count": 65,
   "metadata": {
    "collapsed": false
   },
   "outputs": [
    {
     "name": "stdout",
     "output_type": "stream",
     "text": [
      "set x: [[ 6.1101]\n",
      " [ 5.5277]]\n",
      "set y: [[ 17.592 ]\n",
      " [  9.1302]]\n",
      "set y predicted: [[ 3.39377399]\n",
      " [ 2.6989512 ]]\n",
      "set y delta: [[-14.19822601]\n",
      " [ -6.4312488 ]]\n"
     ]
    }
   ],
   "source": [
    "set_x = x_values['x'].iloc[:2].values.reshape(-1,1)\n",
    "set_y = y_values['y'].iloc[:2].values.reshape(-1,1)\n",
    "set_y_pred = demo_reg.predict(set_x)\n",
    "set_y_delta = set_y_pred - set_y\n",
    "\n",
    "print(\"set x: \" + str(set_x))\n",
    "print(\"set y: \" + str(set_y))\n",
    "print(\"set y predicted: \" + str(set_y_pred))\n",
    "print(\"set y delta: \" + str(set_y_delta))"
   ]
  },
  {
   "cell_type": "code",
   "execution_count": null,
   "metadata": {
    "collapsed": true
   },
   "outputs": [],
   "source": []
  }
 ],
 "metadata": {
  "kernelspec": {
   "display_name": "Python [tensorflow]",
   "language": "python",
   "name": "Python [tensorflow]"
  },
  "language_info": {
   "codemirror_mode": {
    "name": "ipython",
    "version": 3
   },
   "file_extension": ".py",
   "mimetype": "text/x-python",
   "name": "python",
   "nbconvert_exporter": "python",
   "pygments_lexer": "ipython3",
   "version": "3.5.2"
  }
 },
 "nbformat": 4,
 "nbformat_minor": 0
}
