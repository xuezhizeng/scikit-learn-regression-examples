{
 "cells": [
  {
   "cell_type": "code",
   "execution_count": 3,
   "metadata": {
    "collapsed": true
   },
   "outputs": [],
   "source": [
    "import pandas as pd\n",
    "from sklearn import linear_model\n",
    "import matplotlib.pyplot as plt"
   ]
  },
  {
   "cell_type": "code",
   "execution_count": 4,
   "metadata": {
    "collapsed": true
   },
   "outputs": [],
   "source": [
    "%matplotlib inline  "
   ]
  },
  {
   "cell_type": "markdown",
   "metadata": {},
   "source": [
    "Read the data from a text file. In this example, the text file is in the same directory as this notebook. Set the x-values to the 'Brain' column and the y-values to the 'Body' column."
   ]
  },
  {
   "cell_type": "code",
   "execution_count": 8,
   "metadata": {
    "collapsed": true
   },
   "outputs": [],
   "source": [
    "dataframe = pd.read_fwf('brain_body.txt')\n",
    "x_values = dataframe[['Brain']]\n",
    "y_values = dataframe[['Body']]"
   ]
  },
  {
   "cell_type": "code",
   "execution_count": 12,
   "metadata": {
    "collapsed": false
   },
   "outputs": [
    {
     "name": "stdout",
     "output_type": "stream",
     "text": [
      "       Brain\n",
      "0      3.385\n",
      "1      0.480\n",
      "2      1.350\n",
      "3    465.000\n",
      "4     36.330\n",
      "5     27.660\n",
      "6     14.830\n",
      "7      1.040\n",
      "8      4.190\n",
      "9      0.425\n",
      "10     0.101\n",
      "11     0.920\n",
      "12     1.000\n",
      "13     0.005\n",
      "14     0.060\n",
      "15     3.500\n",
      "16     2.000\n",
      "17     1.700\n",
      "18  2547.000\n",
      "19     0.023\n",
      "20   187.100\n",
      "21   521.000\n",
      "22     0.785\n",
      "23    10.000\n",
      "24     3.300\n",
      "25     0.200\n",
      "26     1.410\n",
      "27   529.000\n",
      "28   207.000\n",
      "29    85.000\n",
      "..       ...\n",
      "32  6654.000\n",
      "33     3.500\n",
      "34     6.800\n",
      "35    35.000\n",
      "36     4.050\n",
      "37     0.120\n",
      "38     0.023\n",
      "39     0.010\n",
      "40     1.400\n",
      "41   250.000\n",
      "42     2.500\n",
      "43    55.500\n",
      "44   100.000\n",
      "45    52.160\n",
      "46    10.550\n",
      "47     0.550\n",
      "48    60.000\n",
      "49     3.600\n",
      "50     4.288\n",
      "51     0.280\n",
      "52     0.075\n",
      "53     0.122\n",
      "54     0.048\n",
      "55   192.000\n",
      "56     3.000\n",
      "57   160.000\n",
      "58     0.900\n",
      "59     1.620\n",
      "60     0.104\n",
      "61     4.235\n",
      "\n",
      "[62 rows x 1 columns]\n"
     ]
    }
   ],
   "source": [
    "print(x_values)"
   ]
  },
  {
   "cell_type": "code",
   "execution_count": 13,
   "metadata": {
    "collapsed": false
   },
   "outputs": [
    {
     "name": "stdout",
     "output_type": "stream",
     "text": [
      "       Body\n",
      "0     44.50\n",
      "1     15.50\n",
      "2      8.10\n",
      "3    423.00\n",
      "4    119.50\n",
      "5    115.00\n",
      "6     98.20\n",
      "7      5.50\n",
      "8     58.00\n",
      "9      6.40\n",
      "10     4.00\n",
      "11     5.70\n",
      "12     6.60\n",
      "13     0.14\n",
      "14     1.00\n",
      "15    10.80\n",
      "16    12.30\n",
      "17     6.30\n",
      "18  4603.00\n",
      "19     0.30\n",
      "20   419.00\n",
      "21   655.00\n",
      "22     3.50\n",
      "23   115.00\n",
      "24    25.60\n",
      "25     5.00\n",
      "26    17.50\n",
      "27   680.00\n",
      "28   406.00\n",
      "29   325.00\n",
      "..      ...\n",
      "32  5712.00\n",
      "33     3.90\n",
      "34   179.00\n",
      "35    56.00\n",
      "36    17.00\n",
      "37     1.00\n",
      "38     0.40\n",
      "39     0.25\n",
      "40    12.50\n",
      "41   490.00\n",
      "42    12.10\n",
      "43   175.00\n",
      "44   157.00\n",
      "45   440.00\n",
      "46   179.50\n",
      "47     2.40\n",
      "48    81.00\n",
      "49    21.00\n",
      "50    39.20\n",
      "51     1.90\n",
      "52     1.20\n",
      "53     3.00\n",
      "54     0.33\n",
      "55   180.00\n",
      "56    25.00\n",
      "57   169.00\n",
      "58     2.60\n",
      "59    11.40\n",
      "60     2.50\n",
      "61    50.40\n",
      "\n",
      "[62 rows x 1 columns]\n"
     ]
    }
   ],
   "source": [
    "print(y_values)"
   ]
  },
  {
   "cell_type": "markdown",
   "metadata": {},
   "source": [
    "Now we can train the linear regession model on the data."
   ]
  },
  {
   "cell_type": "code",
   "execution_count": 6,
   "metadata": {
    "collapsed": false
   },
   "outputs": [
    {
     "name": "stderr",
     "output_type": "stream",
     "text": [
      "/Applications/anaconda/envs/tensorflow/lib/python3.5/site-packages/scipy/linalg/basic.py:884: RuntimeWarning: internal gelsd driver lwork query error, required iwork dimension not returned. This is likely the result of LAPACK bug 0038, fixed in LAPACK 3.2.2 (released July 21, 2010). Falling back to 'gelss' driver.\n",
      "  warnings.warn(mesg, RuntimeWarning)\n"
     ]
    },
    {
     "data": {
      "text/plain": [
       "LinearRegression(copy_X=True, fit_intercept=True, n_jobs=1, normalize=False)"
      ]
     },
     "execution_count": 6,
     "metadata": {},
     "output_type": "execute_result"
    }
   ],
   "source": [
    "body_reg = linear_model.LinearRegression()\n",
    "body_reg.fit(x_values, y_values)"
   ]
  },
  {
   "cell_type": "markdown",
   "metadata": {},
   "source": [
    "We can then visualize the regression line for the training data."
   ]
  },
  {
   "cell_type": "code",
   "execution_count": 7,
   "metadata": {
    "collapsed": false
   },
   "outputs": [
    {
     "data": {
      "image/png": "[encoded data removed]",
      "text/plain": [
       "<matplotlib.figure.Figure at 0x111104cf8>"
      ]
     },
     "metadata": {},
     "output_type": "display_data"
    }
   ],
   "source": [
    "plt.scatter(x_values, y_values)\n",
    "plt.plot(x_values, body_reg.predict(x_values))\n",
    "plt.show()"
   ]
  },
  {
   "cell_type": "code",
   "execution_count": null,
   "metadata": {
    "collapsed": true
   },
   "outputs": [],
   "source": []
  }
 ],
 "metadata": {
  "anaconda-cloud": {},
  "kernelspec": {
   "display_name": "Python [tensorflow]",
   "language": "python",
   "name": "Python [tensorflow]"
  },
  "language_info": {
   "codemirror_mode": {
    "name": "ipython",
    "version": 3
   },
   "file_extension": ".py",
   "mimetype": "text/x-python",
   "name": "python",
   "nbconvert_exporter": "python",
   "pygments_lexer": "ipython3",
   "version": "3.5.2"
  }
 },
 "nbformat": 4,
 "nbformat_minor": 0
}
